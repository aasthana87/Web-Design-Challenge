{
 "cells": [
  {
   "cell_type": "code",
   "execution_count": null,
   "id": "f973a4b8",
   "metadata": {},
   "outputs": [],
   "source": [
    "import pandas as pd"
   ]
  },
  {
   "cell_type": "code",
   "execution_count": null,
   "id": "df1c6a14",
   "metadata": {},
   "outputs": [],
   "source": [
    "# Read the csv file\n",
    "df=pd.read_csv(\"../assets/cities_weather_output_final.csv\")"
   ]
  },
  {
   "cell_type": "code",
   "execution_count": null,
   "id": "87f4f044",
   "metadata": {},
   "outputs": [],
   "source": [
    "# Save to file\n",
    "df.to_html(\"raw_data.html\", index=False)"
   ]
  },
  {
   "cell_type": "code",
   "execution_count": null,
   "id": "ecf7e1a6",
   "metadata": {},
   "outputs": [],
   "source": [
    "# Assign to string\n",
    "table = df.to_html()\n",
    "print(table)"
   ]
  }
 ],
 "metadata": {
  "kernelspec": {
   "display_name": "Python 3",
   "language": "python",
   "name": "python3"
  },
  "language_info": {
   "codemirror_mode": {
    "name": "ipython",
    "version": 3
   },
   "file_extension": ".py",
   "mimetype": "text/x-python",
   "name": "python",
   "nbconvert_exporter": "python",
   "pygments_lexer": "ipython3",
   "version": "3.8.8"
  }
 },
 "nbformat": 4,
 "nbformat_minor": 5
}
